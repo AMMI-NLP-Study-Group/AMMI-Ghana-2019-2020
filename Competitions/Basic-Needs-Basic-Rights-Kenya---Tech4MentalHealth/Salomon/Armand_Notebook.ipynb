{
  "nbformat": 4,
  "nbformat_minor": 0,
  "metadata": {
    "colab": {
      "name": "Armand_Notebook.ipynb",
      "provenance": [],
      "collapsed_sections": [
        "t0mfN6sKoknP",
        "ANl8YoFuqA_0"
      ],
      "toc_visible": true
    },
    "kernelspec": {
      "name": "python3",
      "display_name": "Python 3"
    },
    "accelerator": "GPU"
  },
  "cells": [
    {
      "cell_type": "code",
      "metadata": {
        "id": "Bj1OsU-tzZbj",
        "colab_type": "code",
        "colab": {
          "base_uri": "https://localhost:8080/",
          "height": 35
        },
        "outputId": "0bf0ea97-1734-4675-a89f-942642a4ada3"
      },
      "source": [
        "from google.colab import drive\n",
        "drive.mount('/content/drive')"
      ],
      "execution_count": null,
      "outputs": [
        {
          "output_type": "stream",
          "text": [
            "Drive already mounted at /content/drive; to attempt to forcibly remount, call drive.mount(\"/content/drive\", force_remount=True).\n"
          ],
          "name": "stdout"
        }
      ]
    },
    {
      "cell_type": "code",
      "metadata": {
        "id": "WbrisqObx3Il",
        "colab_type": "code",
        "colab": {}
      },
      "source": [
        "import os\n",
        "import re\n",
        "from tqdm import tqdm\n",
        "import numpy as np\n",
        "import pandas as pd\n",
        "import matplotlib.pyplot as plt\n",
        "import random\n",
        "import torch\n",
        "from pathlib import Path\n",
        "from torch.utils.data import TensorDataset, DataLoader, RandomSampler, SequentialSampler\n",
        "\n",
        "from textblob import TextBlob\n",
        "import logging\n",
        "\n",
        "logging.basicConfig(level=logging.ERROR)\n",
        "\n",
        "%matplotlib inline"
      ],
      "execution_count": null,
      "outputs": []
    },
    {
      "cell_type": "code",
      "metadata": {
        "id": "LTCCxuVWyFA6",
        "colab_type": "code",
        "colab": {}
      },
      "source": [
        "def seed_everything(seed):\n",
        "    random.seed(seed)\n",
        "    os.environ['PYTHONHASHSEED'] = str(seed)\n",
        "    np.random.seed(seed)\n",
        "    torch.manual_seed(seed)\n",
        "    torch.cuda.manual_seed(seed)\n",
        "    torch.backends.cudnn.deterministic = True\n",
        "    torch.backends.cudnn.benchmark = True\n",
        "#seed_everything(2020)\n",
        "seed_everything(0)"
      ],
      "execution_count": null,
      "outputs": []
    },
    {
      "cell_type": "code",
      "metadata": {
        "id": "XNJZS0cQQsRj",
        "colab_type": "code",
        "colab": {}
      },
      "source": [
        "!pip install folium==0.2.1 -q\n",
        "!pip install textattack -q"
      ],
      "execution_count": null,
      "outputs": []
    },
    {
      "cell_type": "code",
      "metadata": {
        "id": "yHATfYwIyfLm",
        "colab_type": "code",
        "colab": {}
      },
      "source": [
        "data = pd.read_csv('/content/drive/My Drive/Tech4MentalHealth/data/Train.csv')"
      ],
      "execution_count": null,
      "outputs": []
    },
    {
      "cell_type": "code",
      "metadata": {
        "id": "KgIQh_7-4a0l",
        "colab_type": "code",
        "colab": {}
      },
      "source": [
        "# Apply a first round of text cleaning techniques\n",
        "import re\n",
        "import string\n",
        "\n",
        "def clean_text_round1(text):\n",
        "    '''Make text lowercase, remove text in square brackets, remove punctuation and remove words containing numbers.'''\n",
        "    text = text.lower()\n",
        "    text = re.sub('\\[.*?\\]', '', text)\n",
        "    text = re.sub('[%s]' % re.escape(string.punctuation), '', text)\n",
        "    text = re.sub('\\w*\\d\\w*', '', text)\n",
        "    return text\n",
        "\n",
        "round1 = lambda x: clean_text_round1(x)\n",
        "\n",
        "# Apply a second round of cleaning\n",
        "def clean_text_round2(text):\n",
        "    '''Get rid of some additional punctuation and non-sensical text that was missed the first time around.'''\n",
        "    text = re.sub('[‘’“”…]', '', text)\n",
        "    text = re.sub('\\n', '', text)\n",
        "    return text\n",
        "\n",
        "round2 = lambda x: clean_text_round2(x)"
      ],
      "execution_count": null,
      "outputs": []
    },
    {
      "cell_type": "code",
      "metadata": {
        "id": "XwiZ2wvA4bCK",
        "colab_type": "code",
        "colab": {}
      },
      "source": [
        "data_clean = pd.DataFrame(data.text.apply(round1))\n",
        "data_clean = pd.DataFrame(data_clean.text.apply(round2))"
      ],
      "execution_count": null,
      "outputs": []
    },
    {
      "cell_type": "code",
      "metadata": {
        "id": "XavvE6ly3J3R",
        "colab_type": "code",
        "colab": {
          "base_uri": "https://localhost:8080/",
          "height": 198
        },
        "outputId": "7b4a0256-1bae-4a94-a39a-f12199991341"
      },
      "source": [
        "data.text = data_clean.text\n",
        "data.head()"
      ],
      "execution_count": null,
      "outputs": [
        {
          "output_type": "execute_result",
          "data": {
            "text/html": [
              "<div>\n",
              "<style scoped>\n",
              "    .dataframe tbody tr th:only-of-type {\n",
              "        vertical-align: middle;\n",
              "    }\n",
              "\n",
              "    .dataframe tbody tr th {\n",
              "        vertical-align: top;\n",
              "    }\n",
              "\n",
              "    .dataframe thead th {\n",
              "        text-align: right;\n",
              "    }\n",
              "</style>\n",
              "<table border=\"1\" class=\"dataframe\">\n",
              "  <thead>\n",
              "    <tr style=\"text-align: right;\">\n",
              "      <th></th>\n",
              "      <th>ID</th>\n",
              "      <th>text</th>\n",
              "      <th>label</th>\n",
              "    </tr>\n",
              "  </thead>\n",
              "  <tbody>\n",
              "    <tr>\n",
              "      <th>0</th>\n",
              "      <td>SUAVK39Z</td>\n",
              "      <td>i feel that it was better i dieam happy</td>\n",
              "      <td>Depression</td>\n",
              "    </tr>\n",
              "    <tr>\n",
              "      <th>1</th>\n",
              "      <td>9JDAGUV3</td>\n",
              "      <td>why do i get hallucinations</td>\n",
              "      <td>Drugs</td>\n",
              "    </tr>\n",
              "    <tr>\n",
              "      <th>2</th>\n",
              "      <td>419WR1LQ</td>\n",
              "      <td>i am stresseed due to lack of financial suppor...</td>\n",
              "      <td>Depression</td>\n",
              "    </tr>\n",
              "    <tr>\n",
              "      <th>3</th>\n",
              "      <td>6UY7DX6Q</td>\n",
              "      <td>why is life important</td>\n",
              "      <td>Suicide</td>\n",
              "    </tr>\n",
              "    <tr>\n",
              "      <th>4</th>\n",
              "      <td>FYC0FTFB</td>\n",
              "      <td>how could i be helped to go through the depres...</td>\n",
              "      <td>Depression</td>\n",
              "    </tr>\n",
              "  </tbody>\n",
              "</table>\n",
              "</div>"
            ],
            "text/plain": [
              "         ID                                               text       label\n",
              "0  SUAVK39Z            i feel that it was better i dieam happy  Depression\n",
              "1  9JDAGUV3                        why do i get hallucinations       Drugs\n",
              "2  419WR1LQ  i am stresseed due to lack of financial suppor...  Depression\n",
              "3  6UY7DX6Q                              why is life important     Suicide\n",
              "4  FYC0FTFB  how could i be helped to go through the depres...  Depression"
            ]
          },
          "metadata": {
            "tags": []
          },
          "execution_count": 8
        }
      ]
    },
    {
      "cell_type": "code",
      "metadata": {
        "id": "izoMKTlyRXxv",
        "colab_type": "code",
        "colab": {}
      },
      "source": [
        "examples = data[['text', 'label']].copy()\n",
        "y_fac = data['label'].factorize()\n",
        "examples.label = y_fac[0]"
      ],
      "execution_count": null,
      "outputs": []
    },
    {
      "cell_type": "code",
      "metadata": {
        "id": "PHI38fpEUcz8",
        "colab_type": "code",
        "colab": {}
      },
      "source": [
        "examples.to_csv('examples.csv', index=False)"
      ],
      "execution_count": null,
      "outputs": []
    },
    {
      "cell_type": "markdown",
      "metadata": {
        "id": "V9p8TQowUcvz",
        "colab_type": "text"
      },
      "source": [
        "AUGMENTATION_RECIPE_NAMES \n",
        "\n",
        "{\n",
        "    \"wordnet\": \"textattack.augmentation.WordNetAugmenter\",\n",
        "    \"embedding\": \"textattack.augmentation.EmbeddingAugmenter\",\n",
        "    \"charswap\": \"textattack.augmentation.CharSwapAugmenter\",\n",
        "}"
      ]
    },
    {
      "cell_type": "code",
      "metadata": {
        "id": "bdLHLyL2RX5Q",
        "colab_type": "code",
        "colab": {}
      },
      "source": [
        "!textattack augment --csv examples.csv --input-column text --recipe wordnet --num-words-to-swap 2 --transformations-per-example 1 #--exclude-original"
      ],
      "execution_count": null,
      "outputs": []
    },
    {
      "cell_type": "code",
      "metadata": {
        "id": "3cTzQKS0WlhN",
        "colab_type": "code",
        "colab": {
          "base_uri": "https://localhost:8080/",
          "height": 198
        },
        "outputId": "09766972-dfa1-4948-dae9-69420e5a2dbb"
      },
      "source": [
        "augment_data = pd.read_csv('augment.csv')\n",
        "augment_data.head()"
      ],
      "execution_count": null,
      "outputs": [
        {
          "output_type": "execute_result",
          "data": {
            "text/html": [
              "<div>\n",
              "<style scoped>\n",
              "    .dataframe tbody tr th:only-of-type {\n",
              "        vertical-align: middle;\n",
              "    }\n",
              "\n",
              "    .dataframe tbody tr th {\n",
              "        vertical-align: top;\n",
              "    }\n",
              "\n",
              "    .dataframe thead th {\n",
              "        text-align: right;\n",
              "    }\n",
              "</style>\n",
              "<table border=\"1\" class=\"dataframe\">\n",
              "  <thead>\n",
              "    <tr style=\"text-align: right;\">\n",
              "      <th></th>\n",
              "      <th>text</th>\n",
              "      <th>label</th>\n",
              "    </tr>\n",
              "  </thead>\n",
              "  <tbody>\n",
              "    <tr>\n",
              "      <th>0</th>\n",
              "      <td>i feel that it was better i dieam happy</td>\n",
              "      <td>0</td>\n",
              "    </tr>\n",
              "    <tr>\n",
              "      <th>1</th>\n",
              "      <td>i feel that it was respectable i dieam glad</td>\n",
              "      <td>0</td>\n",
              "    </tr>\n",
              "    <tr>\n",
              "      <th>2</th>\n",
              "      <td>why do i get hallucinations</td>\n",
              "      <td>1</td>\n",
              "    </tr>\n",
              "    <tr>\n",
              "      <th>3</th>\n",
              "      <td>why do i amaze hallucination</td>\n",
              "      <td>1</td>\n",
              "    </tr>\n",
              "    <tr>\n",
              "      <th>4</th>\n",
              "      <td>i am stresseed due to lack of financial suppor...</td>\n",
              "      <td>0</td>\n",
              "    </tr>\n",
              "  </tbody>\n",
              "</table>\n",
              "</div>"
            ],
            "text/plain": [
              "                                                text  label\n",
              "0            i feel that it was better i dieam happy      0\n",
              "1        i feel that it was respectable i dieam glad      0\n",
              "2                        why do i get hallucinations      1\n",
              "3                       why do i amaze hallucination      1\n",
              "4  i am stresseed due to lack of financial suppor...      0"
            ]
          },
          "metadata": {
            "tags": []
          },
          "execution_count": 12
        }
      ]
    },
    {
      "cell_type": "code",
      "metadata": {
        "id": "Q1jtSGgURYBI",
        "colab_type": "code",
        "colab": {}
      },
      "source": [
        "from sklearn.utils import resample, shuffle"
      ],
      "execution_count": null,
      "outputs": []
    },
    {
      "cell_type": "code",
      "metadata": {
        "id": "6OR0RDr3RXtS",
        "colab_type": "code",
        "colab": {
          "base_uri": "https://localhost:8080/",
          "height": 198
        },
        "outputId": "6af98751-7a24-48d0-8b89-3f6fe4eaf7a8"
      },
      "source": [
        "augment_data = shuffle(augment_data)\n",
        "augment_data.head()"
      ],
      "execution_count": null,
      "outputs": [
        {
          "output_type": "execute_result",
          "data": {
            "text/html": [
              "<div>\n",
              "<style scoped>\n",
              "    .dataframe tbody tr th:only-of-type {\n",
              "        vertical-align: middle;\n",
              "    }\n",
              "\n",
              "    .dataframe tbody tr th {\n",
              "        vertical-align: top;\n",
              "    }\n",
              "\n",
              "    .dataframe thead th {\n",
              "        text-align: right;\n",
              "    }\n",
              "</style>\n",
              "<table border=\"1\" class=\"dataframe\">\n",
              "  <thead>\n",
              "    <tr style=\"text-align: right;\">\n",
              "      <th></th>\n",
              "      <th>text</th>\n",
              "      <th>label</th>\n",
              "    </tr>\n",
              "  </thead>\n",
              "  <tbody>\n",
              "    <tr>\n",
              "      <th>18</th>\n",
              "      <td>is heaven open for us who smoke bhang</td>\n",
              "      <td>1</td>\n",
              "    </tr>\n",
              "    <tr>\n",
              "      <th>342</th>\n",
              "      <td>is there a peer counselling programme</td>\n",
              "      <td>0</td>\n",
              "    </tr>\n",
              "    <tr>\n",
              "      <th>467</th>\n",
              "      <td>what could i do to mess with frustration</td>\n",
              "      <td>1</td>\n",
              "    </tr>\n",
              "    <tr>\n",
              "      <th>851</th>\n",
              "      <td>what are the upshot of bhang</td>\n",
              "      <td>1</td>\n",
              "    </tr>\n",
              "    <tr>\n",
              "      <th>950</th>\n",
              "      <td>how can i  get rid of depression</td>\n",
              "      <td>0</td>\n",
              "    </tr>\n",
              "  </tbody>\n",
              "</table>\n",
              "</div>"
            ],
            "text/plain": [
              "                                         text  label\n",
              "18      is heaven open for us who smoke bhang      1\n",
              "342     is there a peer counselling programme      0\n",
              "467  what could i do to mess with frustration      1\n",
              "851              what are the upshot of bhang      1\n",
              "950          how can i  get rid of depression      0"
            ]
          },
          "metadata": {
            "tags": []
          },
          "execution_count": 14
        }
      ]
    },
    {
      "cell_type": "code",
      "metadata": {
        "id": "Ay7i89t4yovD",
        "colab_type": "code",
        "colab": {}
      },
      "source": [
        "from sklearn.model_selection import train_test_split\n",
        "\n",
        "#X = augment_data.text.values\n",
        "#y = augment_data.label.values\n",
        "X = data.text.values\n",
        "y = y_fac[0] #data.label.values\n",
        "\n",
        "X_train, X_val, y_train, y_val =\\\n",
        "    train_test_split(X, y, test_size=0.3, random_state=0, stratify=y)"
      ],
      "execution_count": null,
      "outputs": []
    },
    {
      "cell_type": "code",
      "metadata": {
        "id": "juNo7tuZRXqO",
        "colab_type": "code",
        "colab": {}
      },
      "source": [
        ""
      ],
      "execution_count": null,
      "outputs": []
    },
    {
      "cell_type": "code",
      "metadata": {
        "id": "FRoqAECUyz0O",
        "colab_type": "code",
        "colab": {
          "base_uri": "https://localhost:8080/",
          "height": 198
        },
        "outputId": "2a8de602-50b8-47fc-c9cc-8b9e4f904606"
      },
      "source": [
        "# Load test data\n",
        "test_data = pd.read_csv('/content/drive/My Drive/Tech4MentalHealth/data/Test.csv')\n",
        "\n",
        "test_data.text = test_data.text.apply(round1)\n",
        "test_data.text = test_data.text.apply(round2)\n",
        "\n",
        "test_data.head()"
      ],
      "execution_count": null,
      "outputs": [
        {
          "output_type": "execute_result",
          "data": {
            "text/html": [
              "<div>\n",
              "<style scoped>\n",
              "    .dataframe tbody tr th:only-of-type {\n",
              "        vertical-align: middle;\n",
              "    }\n",
              "\n",
              "    .dataframe tbody tr th {\n",
              "        vertical-align: top;\n",
              "    }\n",
              "\n",
              "    .dataframe thead th {\n",
              "        text-align: right;\n",
              "    }\n",
              "</style>\n",
              "<table border=\"1\" class=\"dataframe\">\n",
              "  <thead>\n",
              "    <tr style=\"text-align: right;\">\n",
              "      <th></th>\n",
              "      <th>ID</th>\n",
              "      <th>text</th>\n",
              "    </tr>\n",
              "  </thead>\n",
              "  <tbody>\n",
              "    <tr>\n",
              "      <th>0</th>\n",
              "      <td>02V56KMO</td>\n",
              "      <td>how to overcome bad feelings and emotions</td>\n",
              "    </tr>\n",
              "    <tr>\n",
              "      <th>1</th>\n",
              "      <td>03BMGTOK</td>\n",
              "      <td>i feel like giving up in life</td>\n",
              "    </tr>\n",
              "    <tr>\n",
              "      <th>2</th>\n",
              "      <td>03LZVFM6</td>\n",
              "      <td>i was so depressed feel like got no strength t...</td>\n",
              "    </tr>\n",
              "    <tr>\n",
              "      <th>3</th>\n",
              "      <td>0EPULUM5</td>\n",
              "      <td>i feel so low especially since i had no one to...</td>\n",
              "    </tr>\n",
              "    <tr>\n",
              "      <th>4</th>\n",
              "      <td>0GM4C5GD</td>\n",
              "      <td>can i be successful when i am a drug addict</td>\n",
              "    </tr>\n",
              "  </tbody>\n",
              "</table>\n",
              "</div>"
            ],
            "text/plain": [
              "         ID                                               text\n",
              "0  02V56KMO          how to overcome bad feelings and emotions\n",
              "1  03BMGTOK                     i feel like giving up in life \n",
              "2  03LZVFM6  i was so depressed feel like got no strength t...\n",
              "3  0EPULUM5  i feel so low especially since i had no one to...\n",
              "4  0GM4C5GD        can i be successful when i am a drug addict"
            ]
          },
          "metadata": {
            "tags": []
          },
          "execution_count": 16
        }
      ]
    },
    {
      "cell_type": "code",
      "metadata": {
        "id": "Vy5jF27e8602",
        "colab_type": "code",
        "colab": {}
      },
      "source": [
        "#y_train"
      ],
      "execution_count": null,
      "outputs": []
    },
    {
      "cell_type": "code",
      "metadata": {
        "id": "EbzkUFKB4Gov",
        "colab_type": "code",
        "colab": {
          "base_uri": "https://localhost:8080/",
          "height": 54
        },
        "outputId": "91b06ccb-ae16-4048-bfb5-ffea61aa22b8"
      },
      "source": [
        "if torch.cuda.is_available():       \n",
        "    device = torch.device(\"cuda\")\n",
        "    print(f'There are {torch.cuda.device_count()} GPU(s) available.')\n",
        "    print('Device name:', torch.cuda.get_device_name(0))\n",
        "\n",
        "else:\n",
        "    print('No GPU available, using the CPU instead.')\n",
        "    device = torch.device(\"cpu\")"
      ],
      "execution_count": null,
      "outputs": [
        {
          "output_type": "stream",
          "text": [
            "There are 1 GPU(s) available.\n",
            "Device name: Tesla P4\n"
          ],
          "name": "stdout"
        }
      ]
    },
    {
      "cell_type": "code",
      "metadata": {
        "id": "biK9enc366ZD",
        "colab_type": "code",
        "colab": {
          "base_uri": "https://localhost:8080/",
          "height": 54
        },
        "outputId": "81784c53-be44-4489-8c2c-6de3b69ba3f8"
      },
      "source": [
        "import nltk\n",
        "# Uncomment to download \"stopwords\"\n",
        "nltk.download(\"stopwords\")\n",
        "from nltk.corpus import stopwords\n",
        "\n",
        "def text_preprocessing(s):\n",
        "    s = s.lower()\n",
        "    # Change 't to 'not'\n",
        "    s = re.sub(r\"\\'t\", \" not\", s)\n",
        "    # Remove @name\n",
        "    s = re.sub(r'(@.*?)[\\s]', ' ', s)\n",
        "    # Isolate and remove punctuations except '?'\n",
        "    s = re.sub(r'([\\'\\\"\\.\\(\\)\\!\\?\\\\\\/\\,])', r' \\1 ', s)\n",
        "    s = re.sub(r'[^\\w\\s\\?]', ' ', s)\n",
        "    # Remove some special characters\n",
        "    s = re.sub(r'([\\;\\:\\|•«\\n])', ' ', s)\n",
        "    # Remove stopwords except 'not' and 'can'\n",
        "    s = \" \".join([word for word in s.split()\n",
        "                  if word not in stopwords.words('english')\n",
        "                  or word in ['not', 'can']])\n",
        "    # Remove trailing whitespace\n",
        "    s = re.sub(r'\\s+', ' ', s).strip()\n",
        "    \n",
        "    return s"
      ],
      "execution_count": null,
      "outputs": [
        {
          "output_type": "stream",
          "text": [
            "[nltk_data] Downloading package stopwords to /root/nltk_data...\n",
            "[nltk_data]   Package stopwords is already up-to-date!\n"
          ],
          "name": "stdout"
        }
      ]
    },
    {
      "cell_type": "code",
      "metadata": {
        "id": "o8H0iZWs7akA",
        "colab_type": "code",
        "colab": {
          "base_uri": "https://localhost:8080/",
          "height": 54
        },
        "outputId": "4b4ceeae-a96c-4f0a-e6e7-e4a49c54aabe"
      },
      "source": [
        "%%time\n",
        "from sklearn.feature_extraction.text import TfidfVectorizer\n",
        "\n",
        "# Preprocess text\n",
        "X_train_preprocessed = np.array([text_preprocessing(text) for text in X_train])\n",
        "X_val_preprocessed = np.array([text_preprocessing(text) for text in X_val])\n",
        "\n",
        "# Calculate TF-IDF\n",
        "tf_idf = TfidfVectorizer()\n",
        "\n",
        "X_train_tfidf = tf_idf.fit_transform(X_train_preprocessed)\n",
        "X_val_tfidf = tf_idf.transform(X_val_preprocessed)"
      ],
      "execution_count": null,
      "outputs": [
        {
          "output_type": "stream",
          "text": [
            "CPU times: user 397 ms, sys: 56.9 ms, total: 454 ms\n",
            "Wall time: 456 ms\n"
          ],
          "name": "stdout"
        }
      ]
    },
    {
      "cell_type": "code",
      "metadata": {
        "id": "pg90hFngd_j7",
        "colab_type": "code",
        "colab": {}
      },
      "source": [
        "#X_train_preprocessed[:10]"
      ],
      "execution_count": null,
      "outputs": []
    },
    {
      "cell_type": "code",
      "metadata": {
        "id": "EVIC4Dqk7jYr",
        "colab_type": "code",
        "colab": {}
      },
      "source": [
        "from sklearn.model_selection import StratifiedKFold, cross_val_score, StratifiedShuffleSplit, cross_validate"
      ],
      "execution_count": null,
      "outputs": []
    },
    {
      "cell_type": "code",
      "metadata": {
        "id": "Xo8SOZY1773x",
        "colab_type": "code",
        "colab": {}
      },
      "source": [
        "from sklearn.naive_bayes import MultinomialNB"
      ],
      "execution_count": null,
      "outputs": []
    },
    {
      "cell_type": "code",
      "metadata": {
        "id": "IEBKhhjkARR9",
        "colab_type": "code",
        "colab": {}
      },
      "source": [
        "# Compute predicted probabilities\n",
        "nb_model = MultinomialNB(alpha=1.8)\n",
        "nb_model.fit(X_train_tfidf, y_train)\n",
        "probs = nb_model.predict_proba(X_val_tfidf)\n",
        "\n",
        "# Evaluate the classifier\n",
        "#evaluate_roc(probs, y_val)"
      ],
      "execution_count": null,
      "outputs": []
    },
    {
      "cell_type": "code",
      "metadata": {
        "id": "pC0hX3RjAijg",
        "colab_type": "code",
        "colab": {}
      },
      "source": [
        "train = np.array([text_preprocessing(text) for text in X])\n",
        "train_idf = tf_idf.fit_transform(train)"
      ],
      "execution_count": null,
      "outputs": []
    },
    {
      "cell_type": "code",
      "metadata": {
        "id": "l3QkCLhgJ1iA",
        "colab_type": "code",
        "colab": {}
      },
      "source": [
        "cv = StratifiedShuffleSplit(n_splits=5, test_size=0.2, random_state=0)"
      ],
      "execution_count": null,
      "outputs": []
    },
    {
      "cell_type": "code",
      "metadata": {
        "id": "-S80quAZLOtr",
        "colab_type": "code",
        "colab": {}
      },
      "source": [
        "clf = MultinomialNB()\n",
        "cv_results_nb = cross_validate(clf, train_idf, y, cv=cv,scoring=('accuracy'),return_train_score=True)"
      ],
      "execution_count": null,
      "outputs": []
    },
    {
      "cell_type": "code",
      "metadata": {
        "id": "Z_BJTFxKLgYN",
        "colab_type": "code",
        "colab": {
          "base_uri": "https://localhost:8080/",
          "height": 35
        },
        "outputId": "76675767-8dc7-4652-b338-18e6d0656536"
      },
      "source": [
        "np.mean(cv_results_nb['train_score']), np.mean(cv_results_nb['test_score'])"
      ],
      "execution_count": null,
      "outputs": [
        {
          "output_type": "execute_result",
          "data": {
            "text/plain": [
              "(0.8426829268292682, 0.764516129032258)"
            ]
          },
          "metadata": {
            "tags": []
          },
          "execution_count": 28
        }
      ]
    },
    {
      "cell_type": "code",
      "metadata": {
        "id": "7qyegwIaNq-C",
        "colab_type": "code",
        "colab": {}
      },
      "source": [
        ""
      ],
      "execution_count": null,
      "outputs": []
    },
    {
      "cell_type": "markdown",
      "metadata": {
        "id": "i6ZpFck5V3yU",
        "colab_type": "text"
      },
      "source": [
        "## Finetuning BERT"
      ]
    },
    {
      "cell_type": "code",
      "metadata": {
        "id": "KLkMCg-FV2eW",
        "colab_type": "code",
        "colab": {}
      },
      "source": [
        "!pip install transformers -q #==2.11.0 -q"
      ],
      "execution_count": null,
      "outputs": []
    },
    {
      "cell_type": "code",
      "metadata": {
        "id": "OOoAKiUPV2hi",
        "colab_type": "code",
        "colab": {}
      },
      "source": [
        "def text_preprocessing(text):\n",
        "    # Remove '@name'\n",
        "    text = re.sub(r'(@.*?)[\\s]', ' ', text)\n",
        "\n",
        "    # Replace '&amp;' with '&'\n",
        "    text = re.sub(r'&amp;', '&', text)\n",
        "\n",
        "    # Remove trailing whitespace\n",
        "    text = re.sub(r'\\s+', ' ', text).strip()\n",
        "\n",
        "    return text"
      ],
      "execution_count": null,
      "outputs": []
    },
    {
      "cell_type": "code",
      "metadata": {
        "id": "KlBIJJGLV2Zz",
        "colab_type": "code",
        "colab": {
          "base_uri": "https://localhost:8080/",
          "height": 35
        },
        "outputId": "dc54529a-3888-470f-daa7-4c506bee64f9"
      },
      "source": [
        "from transformers import BertTokenizer\n",
        "\n",
        "# Load the BERT tokenizer\n",
        "tokenizer = BertTokenizer.from_pretrained('bert-base-uncased', do_lower_case=True)\n",
        "\n",
        "# Create a function to tokenize a set of texts\n",
        "def preprocessing_for_bert(data):\n",
        "    # Create empty lists to store outputs\n",
        "    input_ids = []\n",
        "    attention_masks = []\n",
        "\n",
        "    # For every sentence...\n",
        "    for sent in data:\n",
        "        # `encode_plus` will:\n",
        "        #    (1) Tokenize the sentence\n",
        "        #    (2) Add the `[CLS]` and `[SEP]` token to the start and end\n",
        "        #    (3) Truncate/Pad sentence to max length\n",
        "        #    (4) Map tokens to their IDs\n",
        "        #    (5) Create attention mask\n",
        "        #    (6) Return a dictionary of outputs\n",
        "        encoded_sent = tokenizer.encode_plus(\n",
        "            text=text_preprocessing(sent),  # Preprocess sentence\n",
        "            add_special_tokens=True,        # Add `[CLS]` and `[SEP]`\n",
        "            max_length=MAX_LEN,                  # Max length to truncate/pad\n",
        "            pad_to_max_length=True,         # Pad sentence to max length\n",
        "            #return_tensors='pt',           # Return PyTorch tensor\n",
        "            return_attention_mask=True,      # Return attention mask\n",
        "            truncation=True\n",
        "            )\n",
        "        \n",
        "        # Add the outputs to the lists\n",
        "        input_ids.append(encoded_sent.get('input_ids'))\n",
        "        attention_masks.append(encoded_sent.get('attention_mask'))\n",
        "\n",
        "    # Convert lists to tensors\n",
        "    input_ids = torch.tensor(input_ids)\n",
        "    attention_masks = torch.tensor(attention_masks)\n",
        "\n",
        "    return input_ids, attention_masks"
      ],
      "execution_count": null,
      "outputs": [
        {
          "output_type": "stream",
          "text": [
            "\u001b[34m\u001b[1mwandb\u001b[0m: \u001b[33mWARNING\u001b[0m W&B installed but not logged in.  Run `wandb login` or set the WANDB_API_KEY env variable.\n"
          ],
          "name": "stderr"
        }
      ]
    },
    {
      "cell_type": "code",
      "metadata": {
        "id": "4Qqdo5TLYP9R",
        "colab_type": "code",
        "colab": {
          "base_uri": "https://localhost:8080/",
          "height": 35
        },
        "outputId": "1fbae30e-1484-4384-c13d-1985ba3d683d"
      },
      "source": [
        "# Concatenate train data and test data\n",
        "all_data = np.concatenate([data.text.values, test_data.text.values])\n",
        "\n",
        "# Encode our concatenated data\n",
        "encoded_texts = [tokenizer.encode(sent, add_special_tokens=True) for sent in all_data]\n",
        "\n",
        "# Find the maximum length\n",
        "max_len = max([len(sent) for sent in encoded_texts])\n",
        "print('Max length: ', max_len)"
      ],
      "execution_count": null,
      "outputs": [
        {
          "output_type": "stream",
          "text": [
            "Max length:  38\n"
          ],
          "name": "stdout"
        }
      ]
    },
    {
      "cell_type": "code",
      "metadata": {
        "id": "JCe-dgu_H5l9",
        "colab_type": "code",
        "colab": {}
      },
      "source": [
        "# Specify `MAX_LEN`\n",
        "MAX_LEN = 100"
      ],
      "execution_count": null,
      "outputs": []
    },
    {
      "cell_type": "code",
      "metadata": {
        "id": "SkThJtjmYTAZ",
        "colab_type": "code",
        "colab": {
          "base_uri": "https://localhost:8080/",
          "height": 92
        },
        "outputId": "7f9ac110-bda0-4f7d-f669-69562b185800"
      },
      "source": [
        "# Print sentence 0 and its encoded token ids\n",
        "token_ids = list(preprocessing_for_bert([X[0]])[0].squeeze().numpy())\n",
        "print('Original: ', X[0])\n",
        "print('Token IDs: ', token_ids)\n",
        "\n",
        "# Run function `preprocessing_for_bert` on the train set and the validation set\n",
        "print('Tokenizing data...')\n",
        "train_inputs, train_masks = preprocessing_for_bert(X_train)\n",
        "val_inputs, val_masks = preprocessing_for_bert(X_val)"
      ],
      "execution_count": null,
      "outputs": [
        {
          "output_type": "stream",
          "text": [
            "Original:  i feel that it was better i dieam happy\n",
            "Token IDs:  [101, 1045, 2514, 2008, 2009, 2001, 2488, 1045, 3280, 3286, 3407, 102, 0, 0, 0, 0, 0, 0, 0, 0, 0, 0, 0, 0, 0, 0, 0, 0, 0, 0, 0, 0, 0, 0, 0, 0, 0, 0, 0, 0, 0, 0, 0, 0, 0, 0, 0, 0, 0, 0, 0, 0, 0, 0, 0, 0, 0, 0, 0, 0, 0, 0, 0, 0, 0, 0, 0, 0, 0, 0, 0, 0, 0, 0, 0, 0, 0, 0, 0, 0, 0, 0, 0, 0, 0, 0, 0, 0, 0, 0, 0, 0, 0, 0, 0, 0, 0, 0, 0, 0]\n",
            "Tokenizing data...\n"
          ],
          "name": "stdout"
        }
      ]
    },
    {
      "cell_type": "markdown",
      "metadata": {
        "id": "cue4gW7eZqlc",
        "colab_type": "text"
      },
      "source": [
        "#### Data loader"
      ]
    },
    {
      "cell_type": "code",
      "metadata": {
        "id": "ZClISGPHY9iq",
        "colab_type": "code",
        "colab": {}
      },
      "source": [
        "\n",
        "# Convert other data types to torch.Tensor\n",
        "train_labels = torch.tensor(y_train)\n",
        "val_labels = torch.tensor(y_val)\n",
        "\n",
        "# For fine-tuning BERT, the authors recommend a batch size of 16 or 32.\n",
        "batch_size = 32\n",
        "\n",
        "# Create the DataLoader for our training set\n",
        "train_data = TensorDataset(train_inputs, train_masks, train_labels)\n",
        "train_sampler = RandomSampler(train_data)\n",
        "train_dataloader = DataLoader(train_data, sampler=train_sampler, batch_size=batch_size)\n",
        "\n",
        "# Create the DataLoader for our validation set\n",
        "val_data = TensorDataset(val_inputs, val_masks, val_labels)\n",
        "val_sampler = SequentialSampler(val_data)\n",
        "val_dataloader = DataLoader(val_data, sampler=val_sampler, batch_size=batch_size)"
      ],
      "execution_count": null,
      "outputs": []
    },
    {
      "cell_type": "code",
      "metadata": {
        "id": "HrMgpfyNZynD",
        "colab_type": "code",
        "colab": {}
      },
      "source": [
        ""
      ],
      "execution_count": null,
      "outputs": []
    },
    {
      "cell_type": "markdown",
      "metadata": {
        "id": "HUsPGYP77NbK",
        "colab_type": "text"
      },
      "source": [
        ""
      ]
    },
    {
      "cell_type": "code",
      "metadata": {
        "id": "yBpY1_CjapP4",
        "colab_type": "code",
        "colab": {
          "base_uri": "https://localhost:8080/",
          "height": 54
        },
        "outputId": "a64cd89d-0511-4ad6-92ff-559fe99295b6"
      },
      "source": [
        "%%time\n",
        "#import torch\n",
        "import torch.nn as nn\n",
        "from transformers import BertModel\n",
        "import transformers\n",
        "\n",
        "# Create the BertClassfier class\n",
        "class BertClassifier(nn.Module):\n",
        "    \n",
        "    def __init__(self, freeze_bert=False):\n",
        "       \n",
        "        super(BertClassifier, self).__init__()\n",
        "        # Specify hidden size of BERT, hidden size of our classifier, and number of labels\n",
        "        D_in, H, D_out = 768, 50, 4\n",
        "\n",
        "        # Instantiate BERT model\n",
        "        self.bert = BertModel.from_pretrained('bert-base-uncased')\n",
        "\n",
        "  \n",
        "\n",
        "        # Instantiate an one-layer feed-forward classifier\n",
        "        self.classifier = nn.Sequential(\n",
        "            nn.Linear(D_in, H),\n",
        "            nn.ReLU(),\n",
        "            nn.Dropout(0.2),\n",
        "            nn.Linear(H, D_out)\n",
        "        )\n",
        "        # Freeze the BERT model\n",
        "        if freeze_bert:\n",
        "            for param in self.bert.parameters():\n",
        "                param.requires_grad = False\n",
        "        \n",
        "    def forward(self, input_ids, attention_mask):\n",
        "       \n",
        "        # Feed input to BERT\n",
        "        outputs = self.bert(input_ids=input_ids, attention_mask=attention_mask)\n",
        "        \n",
        "        # Extract the last hidden state of the token `[CLS]` for classification task\n",
        "        last_hidden_state_cls = outputs[0][:, 0, :]\n",
        "\n",
        "        # Feed input to classifier to compute logits\n",
        "        logits = self.classifier(last_hidden_state_cls)\n",
        "\n",
        "        #logits, = self.model(input_ids=input_ids, attention_mask=attention_mask)\n",
        "\n",
        "        return logits"
      ],
      "execution_count": null,
      "outputs": [
        {
          "output_type": "stream",
          "text": [
            "CPU times: user 43 µs, sys: 21 µs, total: 64 µs\n",
            "Wall time: 69.1 µs\n"
          ],
          "name": "stdout"
        }
      ]
    },
    {
      "cell_type": "markdown",
      "metadata": {
        "id": "khqonnLL8AQn",
        "colab_type": "text"
      },
      "source": [
        "lr=5e-5,    # Default learning rate\n",
        "eps=1e-8    # Default epsilon value\n",
        "no dropout # Default epsilon value"
      ]
    },
    {
      "cell_type": "code",
      "metadata": {
        "id": "3pqPCN7hcOe_",
        "colab_type": "code",
        "colab": {}
      },
      "source": [
        "# from collections import  Counter\n",
        "\n",
        "# labels_count = Counter(list(y))\n",
        "# label_weights = [labels_count[0]/labels_count[0], labels_count[0]/labels_count[1], labels_count[0]/labels_count[2], labels_count[0]/labels_count[3]]\n",
        "# label_weights = torch.from_numpy(np.array(label_weights))\n",
        "# label_weights"
      ],
      "execution_count": null,
      "outputs": []
    },
    {
      "cell_type": "code",
      "metadata": {
        "id": "cZnxUxRdbvGW",
        "colab_type": "code",
        "colab": {}
      },
      "source": [
        "import random\n",
        "import time\n",
        "\n",
        "# Specify loss function\n",
        "loss_fn = nn.CrossEntropyLoss()\n",
        "\n",
        "\n",
        "def train(model,optimizer, scheduler, train_dataloader, val_dataloader=None, epochs=4, evaluation=False):\n",
        "    \n",
        "    # Start training loop\n",
        "    print(\"Start training...\\n\")\n",
        "    for epoch_i in range(epochs):\n",
        "        \n",
        "        print(f\"{'Epoch':^7} | {'Batch':^7} | {'Train Loss':^12} | {'Val Loss':^10} | {'Val Acc':^9} | {'Elapsed':^9}\")\n",
        "        print(\"-\"*70)\n",
        "\n",
        "        # Measure the elapsed time of each epoch\n",
        "        t0_epoch, t0_batch = time.time(), time.time()\n",
        "\n",
        "        # Reset tracking variables at the beginning of each epoch\n",
        "        total_loss, batch_loss, batch_counts = 0, 0, 0\n",
        "\n",
        "        # Put the model into the training mode\n",
        "        model.train()\n",
        "\n",
        "        # For each batch of training data...\n",
        "        for step, batch in enumerate(train_dataloader):\n",
        "            batch_counts +=1\n",
        "            # Load batch to GPU\n",
        "            b_input_ids, b_attn_mask, b_labels = tuple(t.to(device) for t in batch)\n",
        "\n",
        "            # Zero out any previously calculated gradients\n",
        "            model.zero_grad()\n",
        "\n",
        "            # Perform a forward pass. This will return logits.\n",
        "            logits = model(b_input_ids, b_attn_mask)\n",
        "\n",
        "            # Compute loss and accumulate the loss values\n",
        "            loss = loss_fn(logits, b_labels)\n",
        "            batch_loss += loss.item()\n",
        "            total_loss += loss.item()\n",
        "\n",
        "            # Perform a backward pass to calculate gradients\n",
        "            loss.backward()\n",
        "\n",
        "            # Clip the norm of the gradients to 1.0 to prevent \"exploding gradients\"\n",
        "            torch.nn.utils.clip_grad_norm_(model.parameters(), 1.0)\n",
        "\n",
        "            # Update parameters and the learning rate\n",
        "            optimizer.step()\n",
        "            scheduler.step()\n",
        "\n",
        "            # Print the loss values and time elapsed for every 20 batches\n",
        "            if (step % 20 == 0 and step != 0) or (step == len(train_dataloader) - 1):\n",
        "                # Calculate time elapsed for 20 batches\n",
        "                time_elapsed = time.time() - t0_batch\n",
        "\n",
        "                # Print training results\n",
        "                print(f\"{epoch_i + 1:^7} | {step:^7} | {batch_loss / batch_counts:^12.6f} | {'-':^10} | {'-':^9} | {time_elapsed:^9.2f}\")\n",
        "\n",
        "                # Reset batch tracking variables\n",
        "                batch_loss, batch_counts = 0, 0\n",
        "                t0_batch = time.time()\n",
        "\n",
        "        # Calculate the average loss over the entire training data\n",
        "        avg_train_loss = total_loss / len(train_dataloader)\n",
        "\n",
        "        print(\"-\"*70)\n",
        "       \n",
        "        if evaluation == True:\n",
        "            # After the completion of each training epoch, measure the model's performance\n",
        "            # on our validation set.\n",
        "            val_loss, val_accuracy = evaluate(model, val_dataloader)\n",
        "\n",
        "            # Print performance over the entire training data\n",
        "            time_elapsed = time.time() - t0_epoch\n",
        "            \n",
        "            print(f\"{epoch_i + 1:^7} | {'-':^7} | {avg_train_loss:^12.6f} | {val_loss:^10.6f} | {val_accuracy:^9.2f} | {time_elapsed:^9.2f}\")\n",
        "            print(\"-\"*70)\n",
        "        print(\"\\n\")\n",
        "    \n",
        "    print(\"Training complete!\")\n",
        "\n",
        "\n",
        "def evaluate(model, val_dataloader):\n",
        "    # Put the model into the evaluation mode. The dropout layers are disabled during\n",
        "    # the test time.\n",
        "    model.eval()\n",
        "\n",
        "    # Tracking variables\n",
        "    val_accuracy = []\n",
        "    val_loss = []\n",
        "\n",
        "    # For each batch in our validation set...\n",
        "    for batch in val_dataloader:\n",
        "        # Load batch to GPU\n",
        "        b_input_ids, b_attn_mask, b_labels = tuple(t.to(device) for t in batch)\n",
        "\n",
        "        # Compute logits\n",
        "        with torch.no_grad():\n",
        "            logits = model(b_input_ids, b_attn_mask)\n",
        "\n",
        "        # Compute loss\n",
        "        loss = loss_fn(logits, b_labels)\n",
        "        val_loss.append(loss.item())\n",
        "\n",
        "        # Get the predictions\n",
        "        preds = torch.argmax(logits, dim=1).flatten()\n",
        "\n",
        "        # Calculate the accuracy rate\n",
        "        accuracy = (preds == b_labels).cpu().numpy().mean() * 100\n",
        "        val_accuracy.append(accuracy)\n",
        "\n",
        "    # Compute the average accuracy and loss over the validation set.\n",
        "    val_loss = np.mean(val_loss)\n",
        "    val_accuracy = np.mean(val_accuracy)\n",
        "\n",
        "    return val_loss, val_accuracy"
      ],
      "execution_count": null,
      "outputs": []
    },
    {
      "cell_type": "code",
      "metadata": {
        "id": "WJDh27BDryJc",
        "colab_type": "code",
        "colab": {}
      },
      "source": [
        "import torch.nn.functional as F\n",
        "\n",
        "def bert_predict(model, test_dataloader):\n",
        "    \n",
        "    # Put the model into the evaluation mode. The dropout layers are disabled during\n",
        "    # the test time.\n",
        "    model.eval()\n",
        "\n",
        "    all_logits = []\n",
        "\n",
        "    # For each batch in our test set...\n",
        "    for batch in test_dataloader:\n",
        "        # Load batch to GPU\n",
        "        b_input_ids, b_attn_mask = tuple(t.to(device) for t in batch)[:2]\n",
        "\n",
        "        # Compute logits\n",
        "        with torch.no_grad():\n",
        "            logits = model(b_input_ids, b_attn_mask)\n",
        "        all_logits.append(logits)\n",
        "    \n",
        "    # Concatenate logits from each batch\n",
        "    all_logits = torch.cat(all_logits, dim=0)\n",
        "\n",
        "    # Apply softmax to calculate probabilities\n",
        "    #probs = F.softmax(all_logits, dim=1).cpu().numpy()\n",
        "    probs = torch.sigmoid(all_logits).cpu().numpy()\n",
        "\n",
        "    return probs"
      ],
      "execution_count": null,
      "outputs": []
    },
    {
      "cell_type": "code",
      "metadata": {
        "id": "YjnHlvazmFC_",
        "colab_type": "code",
        "colab": {}
      },
      "source": [
        ""
      ],
      "execution_count": null,
      "outputs": []
    },
    {
      "cell_type": "code",
      "metadata": {
        "id": "XSJxVetMesGS",
        "colab_type": "code",
        "colab": {}
      },
      "source": [
        "from transformers import AdamW, get_linear_schedule_with_warmup\n",
        "\n",
        "def initialize_model(train_dataloader, lr, epochs=4):\n",
        "    # Instantiate Bert Classifier\n",
        "    bert_classifier = BertClassifier(freeze_bert=False)\n",
        "\n",
        "    # Tell PyTorch to run the model on GPU\n",
        "    bert_classifier.to(device)\n",
        "\n",
        "    # Create the optimizer\n",
        "    optimizer = AdamW(bert_classifier.parameters(),\n",
        "                      lr=lr,    # Default learning rate\n",
        "                      eps=1e-6    # Default epsilon value\n",
        "                      )\n",
        "\n",
        "    # Total number of training steps\n",
        "    total_steps = len(train_dataloader) * epochs\n",
        "\n",
        "    # Set up the learning rate scheduler\n",
        "    scheduler = get_linear_schedule_with_warmup(optimizer,\n",
        "                                                num_warmup_steps=0, # Default value\n",
        "                                                num_training_steps=total_steps)\n",
        "    return bert_classifier, optimizer, scheduler"
      ],
      "execution_count": null,
      "outputs": []
    },
    {
      "cell_type": "code",
      "metadata": {
        "id": "x6eY_SAjKv-d",
        "colab_type": "code",
        "colab": {}
      },
      "source": [
        "from sklearn.model_selection import train_test_split, KFold, StratifiedKFold"
      ],
      "execution_count": null,
      "outputs": []
    },
    {
      "cell_type": "code",
      "metadata": {
        "id": "rKpUcPx7Kv5V",
        "colab_type": "code",
        "colab": {}
      },
      "source": [
        "def crossVall(X, y, test_data, k):\n",
        "  predictions = []\n",
        "  kf = StratifiedKFold(n_splits=k, shuffle=True, random_state=0)\n",
        "\n",
        "  for i, (train_index, val_index) in enumerate(kf.split(X, y)):\n",
        "      X_train, X_val = X[train_index], X[val_index]\n",
        "      y_train, y_val = y[train_index], y[val_index]\n",
        "\n",
        "      train_inputs, train_masks = preprocessing_for_bert(X_train)\n",
        "      val_inputs, val_masks = preprocessing_for_bert(X_val)\n",
        "\n",
        "      train_labels = torch.tensor(y_train)\n",
        "      val_labels = torch.tensor(y_val)\n",
        "\n",
        "      batch_size = 16\n",
        "      lr= 1e-4\n",
        "      train_data = TensorDataset(train_inputs, train_masks, train_labels)\n",
        "      train_sampler = RandomSampler(train_data)\n",
        "      train_dataloader = DataLoader(train_data, sampler=train_sampler, batch_size=batch_size)\n",
        "\n",
        "      # Create the DataLoader for our validation set\n",
        "      val_data = TensorDataset(val_inputs, val_masks, val_labels)\n",
        "      val_sampler = SequentialSampler(val_data)\n",
        "      val_dataloader = DataLoader(val_data, sampler=val_sampler, batch_size=batch_size)\n",
        "\n",
        "      #set_seed(2020)    # Set seed for reproducibility\n",
        "      seed_everything(0)\n",
        "      bert_classifier, optimizer, scheduler = initialize_model(train_dataloader, lr=lr, epochs=3)\n",
        "      train(bert_classifier, optimizer, scheduler, train_dataloader, val_dataloader, epochs=3, evaluation=True)\n",
        "\n",
        "      test_inputs, test_masks = preprocessing_for_bert(test_data.text)\n",
        "\n",
        "      # Create the DataLoader for our test set\n",
        "      test_dataset = TensorDataset(test_inputs, test_masks)\n",
        "      test_sampler = SequentialSampler(test_dataset)\n",
        "      test_dataloader = DataLoader(test_dataset, sampler=test_sampler, batch_size=batch_size)\n",
        "\n",
        "      probs = bert_predict(bert_classifier, test_dataloader)\n",
        "      predictions.append(probs)\n",
        "\n",
        "      print(f'******************************************************************************************************')\n",
        "  return predictions"
      ],
      "execution_count": null,
      "outputs": []
    },
    {
      "cell_type": "code",
      "metadata": {
        "id": "AEdYH6jAhGWF",
        "colab_type": "code",
        "colab": {
          "base_uri": "https://localhost:8080/",
          "height": 1000
        },
        "outputId": "d7b0bc11-0bdd-4467-ae72-dd0edd084f1d"
      },
      "source": [
        "predictions = crossVall(X, y, test_data, 5)"
      ],
      "execution_count": null,
      "outputs": [
        {
          "output_type": "stream",
          "text": [
            "Start training...\n",
            "\n",
            " Epoch  |  Batch  |  Train Loss  |  Val Loss  |  Val Acc  |  Elapsed \n",
            "----------------------------------------------------------------------\n",
            "   1    |   20    |   0.981169   |     -      |     -     |   7.33   \n",
            "   1    |   30    |   0.817433   |     -      |     -     |   3.45   \n",
            "----------------------------------------------------------------------\n",
            "   1    |    -    |   0.928351   |  0.545982  |   80.99   |   11.55  \n",
            "----------------------------------------------------------------------\n",
            "\n",
            "\n",
            " Epoch  |  Batch  |  Train Loss  |  Val Loss  |  Val Acc  |  Elapsed \n",
            "----------------------------------------------------------------------\n",
            "   2    |   20    |   0.516825   |     -      |     -     |   7.31   \n",
            "   2    |   30    |   0.382502   |     -      |     -     |   3.44   \n",
            "----------------------------------------------------------------------\n",
            "   2    |    -    |   0.473495   |  0.398597  |   87.50   |   11.53  \n",
            "----------------------------------------------------------------------\n",
            "\n",
            "\n",
            " Epoch  |  Batch  |  Train Loss  |  Val Loss  |  Val Acc  |  Elapsed \n",
            "----------------------------------------------------------------------\n",
            "   3    |   20    |   0.250519   |     -      |     -     |   7.33   \n",
            "   3    |   30    |   0.296682   |     -      |     -     |   3.46   \n",
            "----------------------------------------------------------------------\n",
            "   3    |    -    |   0.265411   |  0.306838  |   88.28   |   11.57  \n",
            "----------------------------------------------------------------------\n",
            "\n",
            "\n",
            "Training complete!\n",
            "******************************************************************************************************\n",
            "Start training...\n",
            "\n",
            " Epoch  |  Batch  |  Train Loss  |  Val Loss  |  Val Acc  |  Elapsed \n",
            "----------------------------------------------------------------------\n",
            "   1    |   20    |   0.935749   |     -      |     -     |   7.37   \n",
            "   1    |   30    |   0.570349   |     -      |     -     |   3.48   \n",
            "----------------------------------------------------------------------\n",
            "   1    |    -    |   0.817878   |  0.502439  |   83.31   |   11.63  \n",
            "----------------------------------------------------------------------\n",
            "\n",
            "\n",
            " Epoch  |  Batch  |  Train Loss  |  Val Loss  |  Val Acc  |  Elapsed \n",
            "----------------------------------------------------------------------\n",
            "   2    |   20    |   0.350787   |     -      |     -     |   7.37   \n",
            "   2    |   30    |   0.314709   |     -      |     -     |   3.48   \n",
            "----------------------------------------------------------------------\n",
            "   2    |    -    |   0.339149   |  0.499991  |   85.23   |   11.63  \n",
            "----------------------------------------------------------------------\n",
            "\n",
            "\n",
            " Epoch  |  Batch  |  Train Loss  |  Val Loss  |  Val Acc  |  Elapsed \n",
            "----------------------------------------------------------------------\n",
            "   3    |   20    |   0.191734   |     -      |     -     |   7.33   \n",
            "   3    |   30    |   0.235549   |     -      |     -     |   3.47   \n",
            "----------------------------------------------------------------------\n",
            "   3    |    -    |   0.205868   |  0.451824  |   88.35   |   11.58  \n",
            "----------------------------------------------------------------------\n",
            "\n",
            "\n",
            "Training complete!\n",
            "******************************************************************************************************\n",
            "Start training...\n",
            "\n",
            " Epoch  |  Batch  |  Train Loss  |  Val Loss  |  Val Acc  |  Elapsed \n",
            "----------------------------------------------------------------------\n",
            "   1    |   20    |   0.876163   |     -      |     -     |   7.33   \n",
            "   1    |   30    |   0.712730   |     -      |     -     |   3.47   \n",
            "----------------------------------------------------------------------\n",
            "   1    |    -    |   0.823443   |  0.598752  |   80.89   |   11.59  \n",
            "----------------------------------------------------------------------\n",
            "\n",
            "\n",
            " Epoch  |  Batch  |  Train Loss  |  Val Loss  |  Val Acc  |  Elapsed \n",
            "----------------------------------------------------------------------\n",
            "   2    |   20    |   0.379582   |     -      |     -     |   7.34   \n",
            "   2    |   30    |   0.402285   |     -      |     -     |   3.49   \n",
            "----------------------------------------------------------------------\n",
            "   2    |    -    |   0.386905   |  0.581422  |   80.47   |   11.62  \n",
            "----------------------------------------------------------------------\n",
            "\n",
            "\n",
            " Epoch  |  Batch  |  Train Loss  |  Val Loss  |  Val Acc  |  Elapsed \n",
            "----------------------------------------------------------------------\n",
            "   3    |   20    |   0.215407   |     -      |     -     |   7.35   \n",
            "   3    |   30    |   0.264551   |     -      |     -     |   3.49   \n",
            "----------------------------------------------------------------------\n",
            "   3    |    -    |   0.231260   |  0.409903  |   85.94   |   11.63  \n",
            "----------------------------------------------------------------------\n",
            "\n",
            "\n",
            "Training complete!\n",
            "******************************************************************************************************\n",
            "Start training...\n",
            "\n",
            " Epoch  |  Batch  |  Train Loss  |  Val Loss  |  Val Acc  |  Elapsed \n",
            "----------------------------------------------------------------------\n",
            "   1    |   20    |   0.906512   |     -      |     -     |   7.36   \n",
            "   1    |   30    |   0.433577   |     -      |     -     |   3.49   \n",
            "----------------------------------------------------------------------\n",
            "   1    |    -    |   0.753953   |  0.597983  |   77.13   |   11.63  \n",
            "----------------------------------------------------------------------\n",
            "\n",
            "\n",
            " Epoch  |  Batch  |  Train Loss  |  Val Loss  |  Val Acc  |  Elapsed \n",
            "----------------------------------------------------------------------\n",
            "   2    |   20    |   0.308795   |     -      |     -     |   7.35   \n",
            "   2    |   30    |   0.379006   |     -      |     -     |   3.49   \n",
            "----------------------------------------------------------------------\n",
            "   2    |    -    |   0.331444   |  0.552480  |   80.26   |   11.63  \n",
            "----------------------------------------------------------------------\n",
            "\n",
            "\n",
            " Epoch  |  Batch  |  Train Loss  |  Val Loss  |  Val Acc  |  Elapsed \n",
            "----------------------------------------------------------------------\n",
            "   3    |   20    |   0.153650   |     -      |     -     |   7.34   \n",
            "   3    |   30    |   0.273640   |     -      |     -     |   3.47   \n",
            "----------------------------------------------------------------------\n",
            "   3    |    -    |   0.192357   |  0.576152  |   80.61   |   11.60  \n",
            "----------------------------------------------------------------------\n",
            "\n",
            "\n",
            "Training complete!\n",
            "******************************************************************************************************\n",
            "Start training...\n",
            "\n",
            " Epoch  |  Batch  |  Train Loss  |  Val Loss  |  Val Acc  |  Elapsed \n",
            "----------------------------------------------------------------------\n",
            "   1    |   20    |   0.964134   |     -      |     -     |   7.36   \n",
            "   1    |   30    |   0.571466   |     -      |     -     |   3.50   \n",
            "----------------------------------------------------------------------\n",
            "   1    |    -    |   0.837467   |  0.472387  |   84.45   |   11.66  \n",
            "----------------------------------------------------------------------\n",
            "\n",
            "\n",
            " Epoch  |  Batch  |  Train Loss  |  Val Loss  |  Val Acc  |  Elapsed \n",
            "----------------------------------------------------------------------\n",
            "   2    |   20    |   0.339498   |     -      |     -     |   7.40   \n",
            "   2    |   30    |   0.467627   |     -      |     -     |   3.49   \n",
            "----------------------------------------------------------------------\n",
            "   2    |    -    |   0.380830   |  0.336542  |   89.91   |   11.69  \n",
            "----------------------------------------------------------------------\n",
            "\n",
            "\n",
            " Epoch  |  Batch  |  Train Loss  |  Val Loss  |  Val Acc  |  Elapsed \n",
            "----------------------------------------------------------------------\n",
            "   3    |   20    |   0.213510   |     -      |     -     |   7.37   \n",
            "   3    |   30    |   0.227425   |     -      |     -     |   3.50   \n",
            "----------------------------------------------------------------------\n",
            "   3    |    -    |   0.217999   |  0.350258  |   88.35   |   11.66  \n",
            "----------------------------------------------------------------------\n",
            "\n",
            "\n",
            "Training complete!\n",
            "******************************************************************************************************\n"
          ],
          "name": "stdout"
        }
      ]
    },
    {
      "cell_type": "code",
      "metadata": {
        "id": "Ivs_F1QTQx6T",
        "colab_type": "code",
        "colab": {}
      },
      "source": [
        "probs = predictions[0]\n",
        "for p in predictions[1:]:\n",
        "  probs = probs + p\n",
        "\n",
        "probs = probs / len(predictions)\n",
        "cols = ['Depression', 'Alcohol', 'Suicide', 'Drugs']"
      ],
      "execution_count": null,
      "outputs": []
    },
    {
      "cell_type": "code",
      "metadata": {
        "id": "_3SkfPwQSJ16",
        "colab_type": "code",
        "colab": {
          "base_uri": "https://localhost:8080/",
          "height": 108
        },
        "outputId": "b777e7e8-94d1-424b-dd87-a7117365817b"
      },
      "source": [
        "probs[:5]"
      ],
      "execution_count": null,
      "outputs": [
        {
          "output_type": "execute_result",
          "data": {
            "text/plain": [
              "array([[0.668847  , 0.32125652, 0.5935748 , 0.37265247],\n",
              "       [0.87168264, 0.36309373, 0.29112014, 0.33808142],\n",
              "       [0.872165  , 0.36667728, 0.28786415, 0.34008616],\n",
              "       [0.8714949 , 0.3618462 , 0.2931542 , 0.3377226 ],\n",
              "       [0.37495834, 0.75758165, 0.33942074, 0.5437318 ]], dtype=float32)"
            ]
          },
          "metadata": {
            "tags": []
          },
          "execution_count": 67
        }
      ]
    },
    {
      "cell_type": "code",
      "metadata": {
        "id": "mcfW3efl-ZYV",
        "colab_type": "code",
        "colab": {}
      },
      "source": [
        "subcv = pd.read_csv('/content/drive/My Drive/Tech4MentalHealth/SampleSubmission.csv')"
      ],
      "execution_count": null,
      "outputs": []
    },
    {
      "cell_type": "code",
      "metadata": {
        "id": "NeVJiTZHAJ9r",
        "colab_type": "code",
        "colab": {}
      },
      "source": [
        "subcv[cols] = probs"
      ],
      "execution_count": null,
      "outputs": []
    },
    {
      "cell_type": "code",
      "metadata": {
        "id": "tXeeeM9Y_F8w",
        "colab_type": "code",
        "colab": {
          "base_uri": "https://localhost:8080/",
          "height": 198
        },
        "outputId": "0f803b26-fb1e-45bd-e66e-d43069a2bffd"
      },
      "source": [
        "subcv.head()"
      ],
      "execution_count": null,
      "outputs": [
        {
          "output_type": "execute_result",
          "data": {
            "text/html": [
              "<div>\n",
              "<style scoped>\n",
              "    .dataframe tbody tr th:only-of-type {\n",
              "        vertical-align: middle;\n",
              "    }\n",
              "\n",
              "    .dataframe tbody tr th {\n",
              "        vertical-align: top;\n",
              "    }\n",
              "\n",
              "    .dataframe thead th {\n",
              "        text-align: right;\n",
              "    }\n",
              "</style>\n",
              "<table border=\"1\" class=\"dataframe\">\n",
              "  <thead>\n",
              "    <tr style=\"text-align: right;\">\n",
              "      <th></th>\n",
              "      <th>ID</th>\n",
              "      <th>Depression</th>\n",
              "      <th>Alcohol</th>\n",
              "      <th>Suicide</th>\n",
              "      <th>Drugs</th>\n",
              "    </tr>\n",
              "  </thead>\n",
              "  <tbody>\n",
              "    <tr>\n",
              "      <th>0</th>\n",
              "      <td>02V56KMO</td>\n",
              "      <td>0.726372</td>\n",
              "      <td>0.039653</td>\n",
              "      <td>0.900649</td>\n",
              "      <td>0.330668</td>\n",
              "    </tr>\n",
              "    <tr>\n",
              "      <th>1</th>\n",
              "      <td>03BMGTOK</td>\n",
              "      <td>0.998814</td>\n",
              "      <td>0.082974</td>\n",
              "      <td>0.215542</td>\n",
              "      <td>0.065024</td>\n",
              "    </tr>\n",
              "    <tr>\n",
              "      <th>2</th>\n",
              "      <td>03LZVFM6</td>\n",
              "      <td>0.998832</td>\n",
              "      <td>0.086674</td>\n",
              "      <td>0.226346</td>\n",
              "      <td>0.062449</td>\n",
              "    </tr>\n",
              "    <tr>\n",
              "      <th>3</th>\n",
              "      <td>0EPULUM5</td>\n",
              "      <td>0.998834</td>\n",
              "      <td>0.087499</td>\n",
              "      <td>0.230338</td>\n",
              "      <td>0.062268</td>\n",
              "    </tr>\n",
              "    <tr>\n",
              "      <th>4</th>\n",
              "      <td>0GM4C5GD</td>\n",
              "      <td>0.104409</td>\n",
              "      <td>0.988425</td>\n",
              "      <td>0.051728</td>\n",
              "      <td>0.670135</td>\n",
              "    </tr>\n",
              "  </tbody>\n",
              "</table>\n",
              "</div>"
            ],
            "text/plain": [
              "         ID  Depression   Alcohol   Suicide     Drugs\n",
              "0  02V56KMO    0.726372  0.039653  0.900649  0.330668\n",
              "1  03BMGTOK    0.998814  0.082974  0.215542  0.065024\n",
              "2  03LZVFM6    0.998832  0.086674  0.226346  0.062449\n",
              "3  0EPULUM5    0.998834  0.087499  0.230338  0.062268\n",
              "4  0GM4C5GD    0.104409  0.988425  0.051728  0.670135"
            ]
          },
          "metadata": {
            "tags": []
          },
          "execution_count": 199
        }
      ]
    },
    {
      "cell_type": "code",
      "metadata": {
        "id": "9VfP2C1HeVYk",
        "colab_type": "code",
        "colab": {
          "base_uri": "https://localhost:8080/",
          "height": 198
        },
        "outputId": "7abd924a-dab3-4ec0-d226-85c362bbe9a7"
      },
      "source": [
        "subcv = subcv.round(4)\n",
        "subcv.head()"
      ],
      "execution_count": null,
      "outputs": [
        {
          "output_type": "execute_result",
          "data": {
            "text/html": [
              "<div>\n",
              "<style scoped>\n",
              "    .dataframe tbody tr th:only-of-type {\n",
              "        vertical-align: middle;\n",
              "    }\n",
              "\n",
              "    .dataframe tbody tr th {\n",
              "        vertical-align: top;\n",
              "    }\n",
              "\n",
              "    .dataframe thead th {\n",
              "        text-align: right;\n",
              "    }\n",
              "</style>\n",
              "<table border=\"1\" class=\"dataframe\">\n",
              "  <thead>\n",
              "    <tr style=\"text-align: right;\">\n",
              "      <th></th>\n",
              "      <th>ID</th>\n",
              "      <th>Depression</th>\n",
              "      <th>Alcohol</th>\n",
              "      <th>Suicide</th>\n",
              "      <th>Drugs</th>\n",
              "    </tr>\n",
              "  </thead>\n",
              "  <tbody>\n",
              "    <tr>\n",
              "      <th>0</th>\n",
              "      <td>02V56KMO</td>\n",
              "      <td>0.8469</td>\n",
              "      <td>0.1094</td>\n",
              "      <td>0.8020</td>\n",
              "      <td>0.3109</td>\n",
              "    </tr>\n",
              "    <tr>\n",
              "      <th>1</th>\n",
              "      <td>03BMGTOK</td>\n",
              "      <td>0.9964</td>\n",
              "      <td>0.0752</td>\n",
              "      <td>0.3789</td>\n",
              "      <td>0.0753</td>\n",
              "    </tr>\n",
              "    <tr>\n",
              "      <th>2</th>\n",
              "      <td>03LZVFM6</td>\n",
              "      <td>0.9964</td>\n",
              "      <td>0.0923</td>\n",
              "      <td>0.3619</td>\n",
              "      <td>0.0787</td>\n",
              "    </tr>\n",
              "    <tr>\n",
              "      <th>3</th>\n",
              "      <td>0EPULUM5</td>\n",
              "      <td>0.9964</td>\n",
              "      <td>0.0918</td>\n",
              "      <td>0.3727</td>\n",
              "      <td>0.0767</td>\n",
              "    </tr>\n",
              "    <tr>\n",
              "      <th>4</th>\n",
              "      <td>0GM4C5GD</td>\n",
              "      <td>0.2208</td>\n",
              "      <td>0.9570</td>\n",
              "      <td>0.1455</td>\n",
              "      <td>0.5096</td>\n",
              "    </tr>\n",
              "  </tbody>\n",
              "</table>\n",
              "</div>"
            ],
            "text/plain": [
              "         ID  Depression  Alcohol  Suicide   Drugs\n",
              "0  02V56KMO      0.8469   0.1094   0.8020  0.3109\n",
              "1  03BMGTOK      0.9964   0.0752   0.3789  0.0753\n",
              "2  03LZVFM6      0.9964   0.0923   0.3619  0.0787\n",
              "3  0EPULUM5      0.9964   0.0918   0.3727  0.0767\n",
              "4  0GM4C5GD      0.2208   0.9570   0.1455  0.5096"
            ]
          },
          "metadata": {
            "tags": []
          },
          "execution_count": 130
        }
      ]
    },
    {
      "cell_type": "code",
      "metadata": {
        "id": "_7knZ5ugAUaX",
        "colab_type": "code",
        "colab": {
          "base_uri": "https://localhost:8080/",
          "height": 126
        },
        "outputId": "8c1c093b-893f-48f0-acc9-914bc99dae28"
      },
      "source": [
        "subcv.isnull().sum()"
      ],
      "execution_count": null,
      "outputs": [
        {
          "output_type": "execute_result",
          "data": {
            "text/plain": [
              "ID            0\n",
              "Depression    0\n",
              "Alcohol       0\n",
              "Suicide       0\n",
              "Drugs         0\n",
              "dtype: int64"
            ]
          },
          "metadata": {
            "tags": []
          },
          "execution_count": 131
        }
      ]
    },
    {
      "cell_type": "code",
      "metadata": {
        "id": "PquMwvUt_N0Q",
        "colab_type": "code",
        "colab": {}
      },
      "source": [
        "subcv.to_csv('bert_cv_5.csv')"
      ],
      "execution_count": null,
      "outputs": []
    },
    {
      "cell_type": "code",
      "metadata": {
        "id": "iO-2lWA8dImH",
        "colab_type": "code",
        "colab": {
          "base_uri": "https://localhost:8080/",
          "height": 272
        },
        "outputId": "2c67d97f-870e-4fb4-efe6-26be440f1bef"
      },
      "source": [
        "# set_seed(2020)    # Set seed for reproducibility\n",
        "seed_everything(0)\n",
        "bert_classifier_70, optimizer_70, scheduler_70 = initialize_model(train_dataloader, lr=0.00015765668045462564, epochs=1)\n",
        "train(bert_classifier_70, optimizer_70, scheduler_70, train_dataloader, val_dataloader, epochs=1, evaluation=True)"
      ],
      "execution_count": null,
      "outputs": [
        {
          "output_type": "stream",
          "text": [
            "Start training...\n",
            "\n",
            " Epoch  |  Batch  |  Train Loss  |  Val Loss  |  Val Acc  |  Elapsed \n",
            "----------------------------------------------------------------------\n",
            "   1    |   20    |   0.721568   |     -      |     -     |   2.99   \n",
            "   1    |   40    |   0.342444   |     -      |     -     |   2.84   \n",
            "   1    |   60    |   0.298672   |     -      |     -     |   2.84   \n",
            "   1    |   66    |   0.281306   |     -      |     -     |   0.79   \n",
            "----------------------------------------------------------------------\n",
            "   1    |    -    |   0.442733   |  0.224324  |   93.32   |   10.59  \n",
            "----------------------------------------------------------------------\n",
            "\n",
            "\n",
            "Training complete!\n"
          ],
          "name": "stdout"
        }
      ]
    },
    {
      "cell_type": "code",
      "metadata": {
        "id": "wM-z7IlCK9x8",
        "colab_type": "code",
        "colab": {}
      },
      "source": [
        "preds = bert_predict(bert_classifier_70, test_dataloader)"
      ],
      "execution_count": null,
      "outputs": []
    },
    {
      "cell_type": "code",
      "metadata": {
        "id": "hUq5lB5tLSgJ",
        "colab_type": "code",
        "colab": {
          "base_uri": "https://localhost:8080/",
          "height": 217
        },
        "outputId": "ff8a8b58-4e4a-4285-bd67-7a4cb692fd3b"
      },
      "source": [
        "preds[:10]"
      ],
      "execution_count": null,
      "outputs": [
        {
          "output_type": "execute_result",
          "data": {
            "text/plain": [
              "array([[5.8435512e-01, 1.7746354e-02, 3.5293564e-01, 4.4962913e-02],\n",
              "       [9.9776292e-01, 4.8930751e-04, 1.5237356e-03, 2.2400389e-04],\n",
              "       [9.9750996e-01, 4.1609415e-04, 1.8229393e-03, 2.5101993e-04],\n",
              "       [9.9751842e-01, 5.3944153e-04, 1.7058271e-03, 2.3631383e-04],\n",
              "       [2.6553471e-03, 4.5908135e-01, 1.3007770e-02, 5.2525556e-01],\n",
              "       [9.9578530e-01, 5.7565846e-04, 3.2330388e-03, 4.0603071e-04],\n",
              "       [9.8777997e-01, 8.3185476e-04, 1.0293129e-02, 1.0950903e-03],\n",
              "       [9.9811256e-01, 4.1482673e-04, 1.3134124e-03, 1.5915725e-04],\n",
              "       [2.5347032e-04, 5.9013732e-04, 5.6118594e-04, 9.9859530e-01],\n",
              "       [2.0346777e-04, 2.0202547e-03, 8.9474872e-04, 9.9688160e-01]],\n",
              "      dtype=float32)"
            ]
          },
          "metadata": {
            "tags": []
          },
          "execution_count": 147
        }
      ]
    },
    {
      "cell_type": "code",
      "metadata": {
        "id": "ILBkYkDWqXJL",
        "colab_type": "code",
        "colab": {}
      },
      "source": [
        "sub_70 = pd.read_csv('/content/drive/My Drive/Tech4MentalHealth/SampleSubmission.csv')\n",
        "cols = ['Depression', 'Alcohol', 'Suicide', 'Drugs']"
      ],
      "execution_count": null,
      "outputs": []
    },
    {
      "cell_type": "code",
      "metadata": {
        "id": "zi0UxUe-qplv",
        "colab_type": "code",
        "colab": {
          "base_uri": "https://localhost:8080/",
          "height": 198
        },
        "outputId": "e1a77853-70cb-4abb-fb9a-6f714c9f7860"
      },
      "source": [
        "sub_70[cols] = probs\n",
        "sub_70.head()"
      ],
      "execution_count": null,
      "outputs": [
        {
          "output_type": "execute_result",
          "data": {
            "text/html": [
              "<div>\n",
              "<style scoped>\n",
              "    .dataframe tbody tr th:only-of-type {\n",
              "        vertical-align: middle;\n",
              "    }\n",
              "\n",
              "    .dataframe tbody tr th {\n",
              "        vertical-align: top;\n",
              "    }\n",
              "\n",
              "    .dataframe thead th {\n",
              "        text-align: right;\n",
              "    }\n",
              "</style>\n",
              "<table border=\"1\" class=\"dataframe\">\n",
              "  <thead>\n",
              "    <tr style=\"text-align: right;\">\n",
              "      <th></th>\n",
              "      <th>ID</th>\n",
              "      <th>Depression</th>\n",
              "      <th>Alcohol</th>\n",
              "      <th>Suicide</th>\n",
              "      <th>Drugs</th>\n",
              "    </tr>\n",
              "  </thead>\n",
              "  <tbody>\n",
              "    <tr>\n",
              "      <th>0</th>\n",
              "      <td>02V56KMO</td>\n",
              "      <td>0.668847</td>\n",
              "      <td>0.321257</td>\n",
              "      <td>0.593575</td>\n",
              "      <td>0.372652</td>\n",
              "    </tr>\n",
              "    <tr>\n",
              "      <th>1</th>\n",
              "      <td>03BMGTOK</td>\n",
              "      <td>0.871683</td>\n",
              "      <td>0.363094</td>\n",
              "      <td>0.291120</td>\n",
              "      <td>0.338081</td>\n",
              "    </tr>\n",
              "    <tr>\n",
              "      <th>2</th>\n",
              "      <td>03LZVFM6</td>\n",
              "      <td>0.872165</td>\n",
              "      <td>0.366677</td>\n",
              "      <td>0.287864</td>\n",
              "      <td>0.340086</td>\n",
              "    </tr>\n",
              "    <tr>\n",
              "      <th>3</th>\n",
              "      <td>0EPULUM5</td>\n",
              "      <td>0.871495</td>\n",
              "      <td>0.361846</td>\n",
              "      <td>0.293154</td>\n",
              "      <td>0.337723</td>\n",
              "    </tr>\n",
              "    <tr>\n",
              "      <th>4</th>\n",
              "      <td>0GM4C5GD</td>\n",
              "      <td>0.374958</td>\n",
              "      <td>0.757582</td>\n",
              "      <td>0.339421</td>\n",
              "      <td>0.543732</td>\n",
              "    </tr>\n",
              "  </tbody>\n",
              "</table>\n",
              "</div>"
            ],
            "text/plain": [
              "         ID  Depression   Alcohol   Suicide     Drugs\n",
              "0  02V56KMO    0.668847  0.321257  0.593575  0.372652\n",
              "1  03BMGTOK    0.871683  0.363094  0.291120  0.338081\n",
              "2  03LZVFM6    0.872165  0.366677  0.287864  0.340086\n",
              "3  0EPULUM5    0.871495  0.361846  0.293154  0.337723\n",
              "4  0GM4C5GD    0.374958  0.757582  0.339421  0.543732"
            ]
          },
          "metadata": {
            "tags": []
          },
          "execution_count": 69
        }
      ]
    },
    {
      "cell_type": "code",
      "metadata": {
        "id": "bcqdXV_zrCHA",
        "colab_type": "code",
        "colab": {}
      },
      "source": [
        "sub_70.to_csv('bert_cv_2FC_3epochs.csv', index=False)"
      ],
      "execution_count": null,
      "outputs": []
    },
    {
      "cell_type": "markdown",
      "metadata": {
        "id": "t0mfN6sKoknP",
        "colab_type": "text"
      },
      "source": [
        "### Train on full dataset"
      ]
    },
    {
      "cell_type": "code",
      "metadata": {
        "id": "C10gmn9gdlzW",
        "colab_type": "code",
        "colab": {
          "base_uri": "https://localhost:8080/",
          "height": 563
        },
        "outputId": "365a12b4-87bd-41ab-b5b3-566d10aa65a1"
      },
      "source": [
        "# Concatenate the train set and the validation set\n",
        "full_train_data = torch.utils.data.ConcatDataset([train_data, val_data])\n",
        "full_train_sampler = RandomSampler(full_train_data)\n",
        "full_train_dataloader = DataLoader(full_train_data, sampler=full_train_sampler, batch_size=32)\n",
        "\n",
        "# Train the Bert Classifier on the entire training data\n",
        "#set_seed(2020)\n",
        "seed_everything(0)\n",
        "bert_classifier, optimizer, scheduler = initialize_model(full_train_dataloader, lr=1e-4, epochs=3)\n",
        "train(bert_classifier, optimizer, scheduler, full_train_dataloader, epochs=3)"
      ],
      "execution_count": null,
      "outputs": [
        {
          "output_type": "stream",
          "text": [
            "Start training...\n",
            "\n",
            " Epoch  |  Batch  |  Train Loss  |  Val Loss  |  Val Acc  |  Elapsed \n",
            "----------------------------------------------------------------------\n",
            "   1    |   20    |   0.980031   |     -      |     -     |   6.43   \n",
            "   1    |   40    |   0.456961   |     -      |     -     |   6.11   \n",
            "   1    |   60    |   0.325661   |     -      |     -     |   6.11   \n",
            "   1    |   76    |   0.230265   |     -      |     -     |   4.71   \n",
            "----------------------------------------------------------------------\n",
            "\n",
            "\n",
            " Epoch  |  Batch  |  Train Loss  |  Val Loss  |  Val Acc  |  Elapsed \n",
            "----------------------------------------------------------------------\n",
            "   2    |   20    |   0.128234   |     -      |     -     |   6.42   \n",
            "   2    |   40    |   0.116622   |     -      |     -     |   6.11   \n",
            "   2    |   60    |   0.091163   |     -      |     -     |   6.10   \n",
            "   2    |   76    |   0.070930   |     -      |     -     |   4.72   \n",
            "----------------------------------------------------------------------\n",
            "\n",
            "\n",
            " Epoch  |  Batch  |  Train Loss  |  Val Loss  |  Val Acc  |  Elapsed \n",
            "----------------------------------------------------------------------\n",
            "   3    |   20    |   0.021316   |     -      |     -     |   6.39   \n",
            "   3    |   40    |   0.021076   |     -      |     -     |   6.09   \n",
            "   3    |   60    |   0.023161   |     -      |     -     |   6.09   \n",
            "   3    |   76    |   0.007649   |     -      |     -     |   4.68   \n",
            "----------------------------------------------------------------------\n",
            "\n",
            "\n",
            "Training complete!\n"
          ],
          "name": "stdout"
        }
      ]
    },
    {
      "cell_type": "markdown",
      "metadata": {
        "id": "ANl8YoFuqA_0",
        "colab_type": "text"
      },
      "source": [
        "## Prediction on test set"
      ]
    },
    {
      "cell_type": "code",
      "metadata": {
        "id": "Oy5rE3wopZMT",
        "colab_type": "code",
        "colab": {}
      },
      "source": [
        "# # Run `preprocessing_for_bert` on the test set\n",
        "# print('Tokenizing data...')\n",
        "test_inputs, test_masks = preprocessing_for_bert(test_data.text)\n",
        "\n",
        "# Create the DataLoader for our test set\n",
        "test_dataset = TensorDataset(test_inputs, test_masks)\n",
        "test_sampler = SequentialSampler(test_dataset)\n",
        "test_dataloader = DataLoader(test_dataset, sampler=test_sampler, batch_size=32)"
      ],
      "execution_count": null,
      "outputs": []
    },
    {
      "cell_type": "code",
      "metadata": {
        "id": "7_D4_IX2rayB",
        "colab_type": "code",
        "colab": {}
      },
      "source": [
        "# Compute predicted probabilities on the test set\n",
        "probs_full = bert_predict(bert_classifier, test_dataloader)"
      ],
      "execution_count": null,
      "outputs": []
    },
    {
      "cell_type": "code",
      "metadata": {
        "id": "ei9pl_V78oqc",
        "colab_type": "code",
        "colab": {
          "base_uri": "https://localhost:8080/",
          "height": 108
        },
        "outputId": "8172afa8-eba7-40bc-cdfb-571dd68dd4f2"
      },
      "source": [
        "probs_full[:5]"
      ],
      "execution_count": null,
      "outputs": [
        {
          "output_type": "execute_result",
          "data": {
            "text/plain": [
              "array([[0.41843504, 0.04451568, 0.98972964, 0.39334914],\n",
              "       [0.999476  , 0.09855366, 0.10817511, 0.05696144],\n",
              "       [0.99945253, 0.10343424, 0.12913641, 0.05879024],\n",
              "       [0.9993673 , 0.10774244, 0.13338432, 0.05514483],\n",
              "       [0.03806748, 0.9970703 , 0.0494557 , 0.5965507 ]], dtype=float32)"
            ]
          },
          "metadata": {
            "tags": []
          },
          "execution_count": 236
        }
      ]
    },
    {
      "cell_type": "code",
      "metadata": {
        "id": "r4CDm7tHrn9B",
        "colab_type": "code",
        "colab": {
          "base_uri": "https://localhost:8080/",
          "height": 108
        },
        "outputId": "e42aaf1b-a6c4-482e-930c-290aa42814d0"
      },
      "source": [
        "sub=pd.read_csv('/content/drive/My Drive/Tech4MentalHealth/SampleSubmission.csv')\n",
        "sub.head(2)"
      ],
      "execution_count": null,
      "outputs": [
        {
          "output_type": "execute_result",
          "data": {
            "text/html": [
              "<div>\n",
              "<style scoped>\n",
              "    .dataframe tbody tr th:only-of-type {\n",
              "        vertical-align: middle;\n",
              "    }\n",
              "\n",
              "    .dataframe tbody tr th {\n",
              "        vertical-align: top;\n",
              "    }\n",
              "\n",
              "    .dataframe thead th {\n",
              "        text-align: right;\n",
              "    }\n",
              "</style>\n",
              "<table border=\"1\" class=\"dataframe\">\n",
              "  <thead>\n",
              "    <tr style=\"text-align: right;\">\n",
              "      <th></th>\n",
              "      <th>ID</th>\n",
              "      <th>Depression</th>\n",
              "      <th>Alcohol</th>\n",
              "      <th>Suicide</th>\n",
              "      <th>Drugs</th>\n",
              "    </tr>\n",
              "  </thead>\n",
              "  <tbody>\n",
              "    <tr>\n",
              "      <th>0</th>\n",
              "      <td>02V56KMO</td>\n",
              "      <td>0</td>\n",
              "      <td>0</td>\n",
              "      <td>0</td>\n",
              "      <td>0</td>\n",
              "    </tr>\n",
              "    <tr>\n",
              "      <th>1</th>\n",
              "      <td>03BMGTOK</td>\n",
              "      <td>0</td>\n",
              "      <td>0</td>\n",
              "      <td>0</td>\n",
              "      <td>0</td>\n",
              "    </tr>\n",
              "  </tbody>\n",
              "</table>\n",
              "</div>"
            ],
            "text/plain": [
              "         ID  Depression  Alcohol  Suicide  Drugs\n",
              "0  02V56KMO           0        0        0      0\n",
              "1  03BMGTOK           0        0        0      0"
            ]
          },
          "metadata": {
            "tags": []
          },
          "execution_count": 237
        }
      ]
    },
    {
      "cell_type": "code",
      "metadata": {
        "id": "zjZsI8dcr9Tw",
        "colab_type": "code",
        "colab": {}
      },
      "source": [
        "sub['Depression']=probs_full[:,0]\n",
        "sub['Alcohol']=probs_full[:,3]\n",
        "sub['Suicide']=probs_full[:,2]\n",
        "sub['Drugs']=probs_full[:,1]"
      ],
      "execution_count": null,
      "outputs": []
    },
    {
      "cell_type": "code",
      "metadata": {
        "id": "syUtsOVcaQOz",
        "colab_type": "code",
        "colab": {
          "base_uri": "https://localhost:8080/",
          "height": 198
        },
        "outputId": "d8df0b9e-7fbb-49e0-e7d9-6ce37b6ec94c"
      },
      "source": [
        "sub.head()"
      ],
      "execution_count": null,
      "outputs": [
        {
          "output_type": "execute_result",
          "data": {
            "text/html": [
              "<div>\n",
              "<style scoped>\n",
              "    .dataframe tbody tr th:only-of-type {\n",
              "        vertical-align: middle;\n",
              "    }\n",
              "\n",
              "    .dataframe tbody tr th {\n",
              "        vertical-align: top;\n",
              "    }\n",
              "\n",
              "    .dataframe thead th {\n",
              "        text-align: right;\n",
              "    }\n",
              "</style>\n",
              "<table border=\"1\" class=\"dataframe\">\n",
              "  <thead>\n",
              "    <tr style=\"text-align: right;\">\n",
              "      <th></th>\n",
              "      <th>ID</th>\n",
              "      <th>Depression</th>\n",
              "      <th>Alcohol</th>\n",
              "      <th>Suicide</th>\n",
              "      <th>Drugs</th>\n",
              "    </tr>\n",
              "  </thead>\n",
              "  <tbody>\n",
              "    <tr>\n",
              "      <th>0</th>\n",
              "      <td>02V56KMO</td>\n",
              "      <td>0.418435</td>\n",
              "      <td>0.393349</td>\n",
              "      <td>0.989730</td>\n",
              "      <td>0.044516</td>\n",
              "    </tr>\n",
              "    <tr>\n",
              "      <th>1</th>\n",
              "      <td>03BMGTOK</td>\n",
              "      <td>0.999476</td>\n",
              "      <td>0.056961</td>\n",
              "      <td>0.108175</td>\n",
              "      <td>0.098554</td>\n",
              "    </tr>\n",
              "    <tr>\n",
              "      <th>2</th>\n",
              "      <td>03LZVFM6</td>\n",
              "      <td>0.999453</td>\n",
              "      <td>0.058790</td>\n",
              "      <td>0.129136</td>\n",
              "      <td>0.103434</td>\n",
              "    </tr>\n",
              "    <tr>\n",
              "      <th>3</th>\n",
              "      <td>0EPULUM5</td>\n",
              "      <td>0.999367</td>\n",
              "      <td>0.055145</td>\n",
              "      <td>0.133384</td>\n",
              "      <td>0.107742</td>\n",
              "    </tr>\n",
              "    <tr>\n",
              "      <th>4</th>\n",
              "      <td>0GM4C5GD</td>\n",
              "      <td>0.038067</td>\n",
              "      <td>0.596551</td>\n",
              "      <td>0.049456</td>\n",
              "      <td>0.997070</td>\n",
              "    </tr>\n",
              "  </tbody>\n",
              "</table>\n",
              "</div>"
            ],
            "text/plain": [
              "         ID  Depression   Alcohol   Suicide     Drugs\n",
              "0  02V56KMO    0.418435  0.393349  0.989730  0.044516\n",
              "1  03BMGTOK    0.999476  0.056961  0.108175  0.098554\n",
              "2  03LZVFM6    0.999453  0.058790  0.129136  0.103434\n",
              "3  0EPULUM5    0.999367  0.055145  0.133384  0.107742\n",
              "4  0GM4C5GD    0.038067  0.596551  0.049456  0.997070"
            ]
          },
          "metadata": {
            "tags": []
          },
          "execution_count": 239
        }
      ]
    },
    {
      "cell_type": "code",
      "metadata": {
        "id": "1953PsVKnT9M",
        "colab_type": "code",
        "colab": {
          "base_uri": "https://localhost:8080/",
          "height": 198
        },
        "outputId": "30d8cdfd-fe44-4ec5-b546-9d3f5d6e0c74"
      },
      "source": [
        "sub.head()"
      ],
      "execution_count": null,
      "outputs": [
        {
          "output_type": "execute_result",
          "data": {
            "text/html": [
              "<div>\n",
              "<style scoped>\n",
              "    .dataframe tbody tr th:only-of-type {\n",
              "        vertical-align: middle;\n",
              "    }\n",
              "\n",
              "    .dataframe tbody tr th {\n",
              "        vertical-align: top;\n",
              "    }\n",
              "\n",
              "    .dataframe thead th {\n",
              "        text-align: right;\n",
              "    }\n",
              "</style>\n",
              "<table border=\"1\" class=\"dataframe\">\n",
              "  <thead>\n",
              "    <tr style=\"text-align: right;\">\n",
              "      <th></th>\n",
              "      <th>ID</th>\n",
              "      <th>Depression</th>\n",
              "      <th>Alcohol</th>\n",
              "      <th>Suicide</th>\n",
              "      <th>Drugs</th>\n",
              "    </tr>\n",
              "  </thead>\n",
              "  <tbody>\n",
              "    <tr>\n",
              "      <th>0</th>\n",
              "      <td>02V56KMO</td>\n",
              "      <td>0.398957</td>\n",
              "      <td>0.575294</td>\n",
              "      <td>0.971249</td>\n",
              "      <td>0.030159</td>\n",
              "    </tr>\n",
              "    <tr>\n",
              "      <th>1</th>\n",
              "      <td>03BMGTOK</td>\n",
              "      <td>0.999160</td>\n",
              "      <td>0.070718</td>\n",
              "      <td>0.118527</td>\n",
              "      <td>0.103383</td>\n",
              "    </tr>\n",
              "    <tr>\n",
              "      <th>2</th>\n",
              "      <td>03LZVFM6</td>\n",
              "      <td>0.998964</td>\n",
              "      <td>0.080317</td>\n",
              "      <td>0.127560</td>\n",
              "      <td>0.133610</td>\n",
              "    </tr>\n",
              "    <tr>\n",
              "      <th>3</th>\n",
              "      <td>0EPULUM5</td>\n",
              "      <td>0.998946</td>\n",
              "      <td>0.068862</td>\n",
              "      <td>0.113266</td>\n",
              "      <td>0.126298</td>\n",
              "    </tr>\n",
              "    <tr>\n",
              "      <th>4</th>\n",
              "      <td>0GM4C5GD</td>\n",
              "      <td>0.030975</td>\n",
              "      <td>0.845648</td>\n",
              "      <td>0.083442</td>\n",
              "      <td>0.988877</td>\n",
              "    </tr>\n",
              "  </tbody>\n",
              "</table>\n",
              "</div>"
            ],
            "text/plain": [
              "         ID  Depression   Alcohol   Suicide     Drugs\n",
              "0  02V56KMO    0.398957  0.575294  0.971249  0.030159\n",
              "1  03BMGTOK    0.999160  0.070718  0.118527  0.103383\n",
              "2  03LZVFM6    0.998964  0.080317  0.127560  0.133610\n",
              "3  0EPULUM5    0.998946  0.068862  0.113266  0.126298\n",
              "4  0GM4C5GD    0.030975  0.845648  0.083442  0.988877"
            ]
          },
          "metadata": {
            "tags": []
          },
          "execution_count": 234
        }
      ]
    },
    {
      "cell_type": "code",
      "metadata": {
        "id": "FcA9aYp0M5AC",
        "colab_type": "code",
        "colab": {}
      },
      "source": [
        "sub.to_csv('bert_full_samp_3epochs_2.csv', index=False)"
      ],
      "execution_count": null,
      "outputs": []
    },
    {
      "cell_type": "code",
      "metadata": {
        "id": "UO3wvWoXBbNc",
        "colab_type": "code",
        "colab": {}
      },
      "source": [
        ""
      ],
      "execution_count": null,
      "outputs": []
    },
    {
      "cell_type": "code",
      "metadata": {
        "id": "S7G53LITBbHJ",
        "colab_type": "code",
        "colab": {}
      },
      "source": [
        "cols = ['Depression', 'Alcohol', 'Suicide', 'Drugs']"
      ],
      "execution_count": null,
      "outputs": []
    },
    {
      "cell_type": "code",
      "metadata": {
        "id": "7JXsjYOGGNqJ",
        "colab_type": "code",
        "colab": {
          "base_uri": "https://localhost:8080/",
          "height": 35
        },
        "outputId": "20de0eb0-2d53-493a-a139-39bb3bd473bb"
      },
      "source": [
        "dep = sub[sub['Depression'] > 0.98]\n",
        "dep.shape"
      ],
      "execution_count": null,
      "outputs": [
        {
          "output_type": "execute_result",
          "data": {
            "text/plain": [
              "(113, 5)"
            ]
          },
          "metadata": {
            "tags": []
          },
          "execution_count": 70
        }
      ]
    },
    {
      "cell_type": "code",
      "metadata": {
        "id": "TyAYsiqj4KD9",
        "colab_type": "code",
        "colab": {}
      },
      "source": [
        "#test_data.loc[dep.ID]"
      ],
      "execution_count": null,
      "outputs": []
    },
    {
      "cell_type": "code",
      "metadata": {
        "id": "WBx-aEn9Bh2B",
        "colab_type": "code",
        "colab": {
          "base_uri": "https://localhost:8080/",
          "height": 35
        },
        "outputId": "5396fdbd-13cc-4c03-9ea7-0879785e0662"
      },
      "source": [
        "al = sub[sub['Alcohol'] > 0.94]\n",
        "al.shape"
      ],
      "execution_count": null,
      "outputs": [
        {
          "output_type": "execute_result",
          "data": {
            "text/plain": [
              "(54, 5)"
            ]
          },
          "metadata": {
            "tags": []
          },
          "execution_count": 73
        }
      ]
    },
    {
      "cell_type": "code",
      "metadata": {
        "id": "geoUXPZJDFK_",
        "colab_type": "code",
        "colab": {
          "base_uri": "https://localhost:8080/",
          "height": 35
        },
        "outputId": "1c3c3a3c-c9f8-4d72-b03d-d92bf028b4a6"
      },
      "source": [
        "suicide = sub[sub['Suicide'] > 0.70]\n",
        "suicide.shape"
      ],
      "execution_count": null,
      "outputs": [
        {
          "output_type": "execute_result",
          "data": {
            "text/plain": [
              "(10, 5)"
            ]
          },
          "metadata": {
            "tags": []
          },
          "execution_count": 93
        }
      ]
    },
    {
      "cell_type": "code",
      "metadata": {
        "id": "-S6H94AyD5Pp",
        "colab_type": "code",
        "colab": {
          "base_uri": "https://localhost:8080/",
          "height": 35
        },
        "outputId": "fc326480-875f-4e75-c3d7-69a35689f8a9"
      },
      "source": [
        "drugs = sub[sub['Drugs'] > 0.90]\n",
        "drugs.shape"
      ],
      "execution_count": null,
      "outputs": [
        {
          "output_type": "execute_result",
          "data": {
            "text/plain": [
              "(18, 5)"
            ]
          },
          "metadata": {
            "tags": []
          },
          "execution_count": 78
        }
      ]
    },
    {
      "cell_type": "code",
      "metadata": {
        "id": "PvCe9NcdH6hh",
        "colab_type": "code",
        "colab": {}
      },
      "source": [
        "def pseudoLabel(df_sub, df_test, labels):\n",
        "    dic = {}\n",
        "    for label in labels:\n",
        "        if label == 'Depression':\n",
        "            lab = df_sub[df_sub[label] > 0.98]\n",
        "            data = df_test.loc[lab.ID]\n",
        "            data['label'] = label\n",
        "            dic[label.lower()] = data.reset_index(drop=True)\n",
        "        if label == 'Alcohol':\n",
        "            lab = df_sub[df_sub[label] > 0.94]\n",
        "            data = df_test.loc[lab.ID]\n",
        "            data['label'] = label\n",
        "            dic[label.lower()] = data.reset_index(drop=True)\n",
        "        if label == 'Drugs':\n",
        "            lab = df_sub[df_sub[label] > 0.90]\n",
        "            data = df_test.loc[lab.ID]\n",
        "            data['label'] = label\n",
        "            dic[label.lower()] = data.reset_index(drop=True)\n",
        "        if label == 'Suicide':\n",
        "            lab = df_sub[df_sub[label] > 0.70]\n",
        "            data = df_test.loc[lab.ID]\n",
        "            data['label'] = label\n",
        "            dic[label.lower()] = data.reset_index(drop=True)\n",
        "    \n",
        "    return shuffle(pd.concat(dic.values()).reset_index(drop=True))"
      ],
      "execution_count": null,
      "outputs": []
    },
    {
      "cell_type": "code",
      "metadata": {
        "id": "p0mV-_DT6Yrj",
        "colab_type": "code",
        "colab": {}
      },
      "source": [
        "test = test_data.copy()\n",
        "test.index = test_data.ID"
      ],
      "execution_count": null,
      "outputs": []
    },
    {
      "cell_type": "code",
      "metadata": {
        "id": "qGN-dT7O2Et4",
        "colab_type": "code",
        "colab": {}
      },
      "source": [
        "pseudoLabelData = pseudoLabel(sub, test, cols)"
      ],
      "execution_count": null,
      "outputs": []
    },
    {
      "cell_type": "code",
      "metadata": {
        "id": "Ud7FDx-k2Qvd",
        "colab_type": "code",
        "colab": {}
      },
      "source": [
        "pseudoLabelData.to_csv('pseudoLabelData.csv', index=False)"
      ],
      "execution_count": null,
      "outputs": []
    },
    {
      "cell_type": "code",
      "metadata": {
        "id": "bDFYnmuQ6umE",
        "colab_type": "code",
        "colab": {}
      },
      "source": [
        ""
      ],
      "execution_count": null,
      "outputs": []
    }
  ]
}